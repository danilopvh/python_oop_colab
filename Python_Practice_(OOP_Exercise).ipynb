{
  "nbformat": 4,
  "nbformat_minor": 0,
  "metadata": {
    "colab": {
      "provenance": [],
      "authorship_tag": "ABX9TyO4L/9eEgX4gj6I9YT1WNa/",
      "include_colab_link": true
    },
    "kernelspec": {
      "name": "python3",
      "display_name": "Python 3"
    },
    "language_info": {
      "name": "python"
    }
  },
  "cells": [
    {
      "cell_type": "markdown",
      "metadata": {
        "id": "view-in-github",
        "colab_type": "text"
      },
      "source": [
        "<a href=\"https://colab.research.google.com/github/danilopvh/python_oop_colab/blob/main/Python_Practice_(OOP_Exercise).ipynb\" target=\"_parent\"><img src=\"https://colab.research.google.com/assets/colab-badge.svg\" alt=\"Open In Colab\"/></a>"
      ]
    },
    {
      "cell_type": "markdown",
      "source": [
        "# [150+ Exercises - Object Oriented Programming in Python - OOP](https://www.udemy.com/course/exercises-object-oriented-programming-in-python-oop-course/)"
      ],
      "metadata": {
        "id": "E4-XBBQHunsH"
      }
    },
    {
      "cell_type": "code",
      "source": [],
      "metadata": {
        "id": "5jpfRCkxuu0i"
      },
      "execution_count": null,
      "outputs": []
    }
  ]
}